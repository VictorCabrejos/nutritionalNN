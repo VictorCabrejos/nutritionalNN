{
 "cells": [
  {
   "cell_type": "code",
   "execution_count": 1,
   "metadata": {},
   "outputs": [],
   "source": [
    "# import libraries\n",
    "\n",
    "## PART 1\n",
    "import pandas as pd\n",
    "import matplotlib.pyplot as plt\n",
    "\n",
    "## PART 2\n",
    "import numpy as np # Math\n",
    "import talib    # SMA / RSI\n",
    "import statsmodels.api as sm  #Linear Modeling\n",
    "import seaborn as sns # heatmap\n",
    "\n",
    "%matplotlib inline\n",
    "%config InlineBackend.figure_format = 'retina'\n",
    "plt.rcParams['figure.figsize'] = [7, 6]\n",
    "pd.options.mode.chained_assignment = None  # default='warn'"
   ]
  },
  {
   "cell_type": "code",
   "execution_count": 2,
   "metadata": {},
   "outputs": [],
   "source": [
    "# Converting CSV to Dataframe\n",
    "cereal_df = pd.read_csv(\"Cereals.xls\")"
   ]
  },
  {
   "cell_type": "code",
   "execution_count": 3,
   "metadata": {},
   "outputs": [
    {
     "data": {
      "text/html": [
       "<div>\n",
       "<style scoped>\n",
       "    .dataframe tbody tr th:only-of-type {\n",
       "        vertical-align: middle;\n",
       "    }\n",
       "\n",
       "    .dataframe tbody tr th {\n",
       "        vertical-align: top;\n",
       "    }\n",
       "\n",
       "    .dataframe thead th {\n",
       "        text-align: right;\n",
       "    }\n",
       "</style>\n",
       "<table border=\"1\" class=\"dataframe\">\n",
       "  <thead>\n",
       "    <tr style=\"text-align: right;\">\n",
       "      <th></th>\n",
       "      <th>Name</th>\n",
       "      <th>Manuf</th>\n",
       "      <th>Type</th>\n",
       "      <th>Calories</th>\n",
       "      <th>Protein</th>\n",
       "      <th>Fat</th>\n",
       "      <th>Sodium</th>\n",
       "      <th>Fiber</th>\n",
       "      <th>Carbo</th>\n",
       "      <th>Sugars</th>\n",
       "      <th>...</th>\n",
       "      <th>Weight</th>\n",
       "      <th>Cups</th>\n",
       "      <th>Rating</th>\n",
       "      <th>Cold</th>\n",
       "      <th>Nabisco</th>\n",
       "      <th>Quaker</th>\n",
       "      <th>Kelloggs</th>\n",
       "      <th>GeneralMills</th>\n",
       "      <th>Ralston</th>\n",
       "      <th>AHFP</th>\n",
       "    </tr>\n",
       "  </thead>\n",
       "  <tbody>\n",
       "    <tr>\n",
       "      <th>0</th>\n",
       "      <td>100%_Bran</td>\n",
       "      <td>N</td>\n",
       "      <td>C</td>\n",
       "      <td>70</td>\n",
       "      <td>4</td>\n",
       "      <td>1</td>\n",
       "      <td>130</td>\n",
       "      <td>10.0</td>\n",
       "      <td>5.0</td>\n",
       "      <td>6.0</td>\n",
       "      <td>...</td>\n",
       "      <td>1.0</td>\n",
       "      <td>0.33</td>\n",
       "      <td>68.402973</td>\n",
       "      <td>1</td>\n",
       "      <td>1</td>\n",
       "      <td>0</td>\n",
       "      <td>0</td>\n",
       "      <td>0</td>\n",
       "      <td>0</td>\n",
       "      <td>0</td>\n",
       "    </tr>\n",
       "    <tr>\n",
       "      <th>1</th>\n",
       "      <td>100%_Natural_Bran</td>\n",
       "      <td>Q</td>\n",
       "      <td>C</td>\n",
       "      <td>120</td>\n",
       "      <td>3</td>\n",
       "      <td>5</td>\n",
       "      <td>15</td>\n",
       "      <td>2.0</td>\n",
       "      <td>8.0</td>\n",
       "      <td>8.0</td>\n",
       "      <td>...</td>\n",
       "      <td>1.0</td>\n",
       "      <td>1.00</td>\n",
       "      <td>33.983679</td>\n",
       "      <td>1</td>\n",
       "      <td>0</td>\n",
       "      <td>1</td>\n",
       "      <td>0</td>\n",
       "      <td>0</td>\n",
       "      <td>0</td>\n",
       "      <td>0</td>\n",
       "    </tr>\n",
       "    <tr>\n",
       "      <th>2</th>\n",
       "      <td>All-Bran</td>\n",
       "      <td>K</td>\n",
       "      <td>C</td>\n",
       "      <td>70</td>\n",
       "      <td>4</td>\n",
       "      <td>1</td>\n",
       "      <td>260</td>\n",
       "      <td>9.0</td>\n",
       "      <td>7.0</td>\n",
       "      <td>5.0</td>\n",
       "      <td>...</td>\n",
       "      <td>1.0</td>\n",
       "      <td>0.33</td>\n",
       "      <td>59.425505</td>\n",
       "      <td>1</td>\n",
       "      <td>0</td>\n",
       "      <td>0</td>\n",
       "      <td>1</td>\n",
       "      <td>0</td>\n",
       "      <td>0</td>\n",
       "      <td>0</td>\n",
       "    </tr>\n",
       "    <tr>\n",
       "      <th>3</th>\n",
       "      <td>All-Bran_with_Extra_Fiber</td>\n",
       "      <td>K</td>\n",
       "      <td>C</td>\n",
       "      <td>50</td>\n",
       "      <td>4</td>\n",
       "      <td>0</td>\n",
       "      <td>140</td>\n",
       "      <td>14.0</td>\n",
       "      <td>8.0</td>\n",
       "      <td>0.0</td>\n",
       "      <td>...</td>\n",
       "      <td>1.0</td>\n",
       "      <td>0.50</td>\n",
       "      <td>93.704912</td>\n",
       "      <td>1</td>\n",
       "      <td>0</td>\n",
       "      <td>0</td>\n",
       "      <td>1</td>\n",
       "      <td>0</td>\n",
       "      <td>0</td>\n",
       "      <td>0</td>\n",
       "    </tr>\n",
       "    <tr>\n",
       "      <th>4</th>\n",
       "      <td>Almond_Delight</td>\n",
       "      <td>R</td>\n",
       "      <td>C</td>\n",
       "      <td>110</td>\n",
       "      <td>2</td>\n",
       "      <td>2</td>\n",
       "      <td>200</td>\n",
       "      <td>1.0</td>\n",
       "      <td>14.0</td>\n",
       "      <td>8.0</td>\n",
       "      <td>...</td>\n",
       "      <td>1.0</td>\n",
       "      <td>0.75</td>\n",
       "      <td>34.384843</td>\n",
       "      <td>1</td>\n",
       "      <td>0</td>\n",
       "      <td>0</td>\n",
       "      <td>0</td>\n",
       "      <td>0</td>\n",
       "      <td>1</td>\n",
       "      <td>0</td>\n",
       "    </tr>\n",
       "  </tbody>\n",
       "</table>\n",
       "<p>5 rows × 23 columns</p>\n",
       "</div>"
      ],
      "text/plain": [
       "                         Name Manuf Type  Calories  Protein  Fat  Sodium  \\\n",
       "0                  100%_Bran     N    C         70        4    1     130   \n",
       "1          100%_Natural_Bran     Q    C        120        3    5      15   \n",
       "2                   All-Bran     K    C         70        4    1     260   \n",
       "3  All-Bran_with_Extra_Fiber     K    C         50        4    0     140   \n",
       "4             Almond_Delight     R    C        110        2    2     200   \n",
       "\n",
       "   Fiber  Carbo  Sugars  ...  Weight  Cups     Rating  Cold  Nabisco  Quaker  \\\n",
       "0   10.0    5.0     6.0  ...     1.0  0.33  68.402973     1        1       0   \n",
       "1    2.0    8.0     8.0  ...     1.0  1.00  33.983679     1        0       1   \n",
       "2    9.0    7.0     5.0  ...     1.0  0.33  59.425505     1        0       0   \n",
       "3   14.0    8.0     0.0  ...     1.0  0.50  93.704912     1        0       0   \n",
       "4    1.0   14.0     8.0  ...     1.0  0.75  34.384843     1        0       0   \n",
       "\n",
       "   Kelloggs  GeneralMills  Ralston  AHFP  \n",
       "0         0             0        0     0  \n",
       "1         0             0        0     0  \n",
       "2         1             0        0     0  \n",
       "3         1             0        0     0  \n",
       "4         0             0        1     0  \n",
       "\n",
       "[5 rows x 23 columns]"
      ]
     },
     "execution_count": 3,
     "metadata": {},
     "output_type": "execute_result"
    }
   ],
   "source": [
    "# see first 5 rows of data\n",
    "cereal_df.head()"
   ]
  },
  {
   "cell_type": "code",
   "execution_count": 4,
   "metadata": {},
   "outputs": [
    {
     "data": {
      "text/plain": [
       "(77, 23)"
      ]
     },
     "execution_count": 4,
     "metadata": {},
     "output_type": "execute_result"
    }
   ],
   "source": [
    "# Checking number of rows\n",
    "cereal_df.shape"
   ]
  },
  {
   "cell_type": "code",
   "execution_count": 5,
   "metadata": {},
   "outputs": [
    {
     "data": {
      "text/plain": [
       "True"
      ]
     },
     "execution_count": 5,
     "metadata": {},
     "output_type": "execute_result"
    }
   ],
   "source": [
    "# Checking if there is any missing data\n",
    "cereal_df.isnull().values.any()"
   ]
  },
  {
   "cell_type": "code",
   "execution_count": 6,
   "metadata": {},
   "outputs": [
    {
     "data": {
      "text/html": [
       "<div>\n",
       "<style scoped>\n",
       "    .dataframe tbody tr th:only-of-type {\n",
       "        vertical-align: middle;\n",
       "    }\n",
       "\n",
       "    .dataframe tbody tr th {\n",
       "        vertical-align: top;\n",
       "    }\n",
       "\n",
       "    .dataframe thead th {\n",
       "        text-align: right;\n",
       "    }\n",
       "</style>\n",
       "<table border=\"1\" class=\"dataframe\">\n",
       "  <thead>\n",
       "    <tr style=\"text-align: right;\">\n",
       "      <th></th>\n",
       "      <th>Name</th>\n",
       "      <th>Manuf</th>\n",
       "      <th>Type</th>\n",
       "      <th>Calories</th>\n",
       "      <th>Protein</th>\n",
       "      <th>Fat</th>\n",
       "      <th>Sodium</th>\n",
       "      <th>Fiber</th>\n",
       "      <th>Carbo</th>\n",
       "      <th>Sugars</th>\n",
       "      <th>...</th>\n",
       "      <th>Weight</th>\n",
       "      <th>Cups</th>\n",
       "      <th>Rating</th>\n",
       "      <th>Cold</th>\n",
       "      <th>Nabisco</th>\n",
       "      <th>Quaker</th>\n",
       "      <th>Kelloggs</th>\n",
       "      <th>GeneralMills</th>\n",
       "      <th>Ralston</th>\n",
       "      <th>AHFP</th>\n",
       "    </tr>\n",
       "  </thead>\n",
       "  <tbody>\n",
       "    <tr>\n",
       "      <th>4</th>\n",
       "      <td>Almond_Delight</td>\n",
       "      <td>R</td>\n",
       "      <td>C</td>\n",
       "      <td>110</td>\n",
       "      <td>2</td>\n",
       "      <td>2</td>\n",
       "      <td>200</td>\n",
       "      <td>1.0</td>\n",
       "      <td>14.0</td>\n",
       "      <td>8.0</td>\n",
       "      <td>...</td>\n",
       "      <td>1.0</td>\n",
       "      <td>0.75</td>\n",
       "      <td>34.384843</td>\n",
       "      <td>1</td>\n",
       "      <td>0</td>\n",
       "      <td>0</td>\n",
       "      <td>0</td>\n",
       "      <td>0</td>\n",
       "      <td>1</td>\n",
       "      <td>0</td>\n",
       "    </tr>\n",
       "    <tr>\n",
       "      <th>20</th>\n",
       "      <td>Cream_of_Wheat_(Quick)</td>\n",
       "      <td>N</td>\n",
       "      <td>H</td>\n",
       "      <td>100</td>\n",
       "      <td>3</td>\n",
       "      <td>0</td>\n",
       "      <td>80</td>\n",
       "      <td>1.0</td>\n",
       "      <td>21.0</td>\n",
       "      <td>0.0</td>\n",
       "      <td>...</td>\n",
       "      <td>1.0</td>\n",
       "      <td>1.00</td>\n",
       "      <td>64.533816</td>\n",
       "      <td>0</td>\n",
       "      <td>1</td>\n",
       "      <td>0</td>\n",
       "      <td>0</td>\n",
       "      <td>0</td>\n",
       "      <td>0</td>\n",
       "      <td>0</td>\n",
       "    </tr>\n",
       "    <tr>\n",
       "      <th>57</th>\n",
       "      <td>Quaker_Oatmeal</td>\n",
       "      <td>Q</td>\n",
       "      <td>H</td>\n",
       "      <td>100</td>\n",
       "      <td>5</td>\n",
       "      <td>2</td>\n",
       "      <td>0</td>\n",
       "      <td>2.7</td>\n",
       "      <td>NaN</td>\n",
       "      <td>NaN</td>\n",
       "      <td>...</td>\n",
       "      <td>1.0</td>\n",
       "      <td>0.67</td>\n",
       "      <td>50.828392</td>\n",
       "      <td>0</td>\n",
       "      <td>0</td>\n",
       "      <td>1</td>\n",
       "      <td>0</td>\n",
       "      <td>0</td>\n",
       "      <td>0</td>\n",
       "      <td>0</td>\n",
       "    </tr>\n",
       "  </tbody>\n",
       "</table>\n",
       "<p>3 rows × 23 columns</p>\n",
       "</div>"
      ],
      "text/plain": [
       "                       Name Manuf Type  Calories  Protein  Fat  Sodium  Fiber  \\\n",
       "4           Almond_Delight     R    C        110        2    2     200    1.0   \n",
       "20  Cream_of_Wheat_(Quick)     N    H        100        3    0      80    1.0   \n",
       "57          Quaker_Oatmeal     Q    H        100        5    2       0    2.7   \n",
       "\n",
       "    Carbo  Sugars  ...  Weight  Cups     Rating  Cold  Nabisco  Quaker  \\\n",
       "4    14.0     8.0  ...     1.0  0.75  34.384843     1        0       0   \n",
       "20   21.0     0.0  ...     1.0  1.00  64.533816     0        1       0   \n",
       "57    NaN     NaN  ...     1.0  0.67  50.828392     0        0       1   \n",
       "\n",
       "    Kelloggs  GeneralMills  Ralston  AHFP  \n",
       "4          0             0        1     0  \n",
       "20         0             0        0     0  \n",
       "57         0             0        0     0  \n",
       "\n",
       "[3 rows x 23 columns]"
      ]
     },
     "execution_count": 6,
     "metadata": {},
     "output_type": "execute_result"
    }
   ],
   "source": [
    "# Checking in what rows there is missing data\n",
    "cereal_df[cereal_df.isna().any(axis=1)]"
   ]
  },
  {
   "cell_type": "code",
   "execution_count": 7,
   "metadata": {},
   "outputs": [],
   "source": [
    "# Removing rows with missing data\n",
    "cereal_df = cereal_df.dropna()"
   ]
  },
  {
   "cell_type": "code",
   "execution_count": 8,
   "metadata": {},
   "outputs": [
    {
     "data": {
      "text/plain": [
       "(74, 23)"
      ]
     },
     "execution_count": 8,
     "metadata": {},
     "output_type": "execute_result"
    }
   ],
   "source": [
    "# Checking number of rows (after removing missing data)\n",
    "cereal_df.shape"
   ]
  },
  {
   "cell_type": "code",
   "execution_count": 9,
   "metadata": {},
   "outputs": [
    {
     "data": {
      "text/plain": [
       "Index(['Name', 'Manuf', 'Type', 'Calories', 'Protein', 'Fat', 'Sodium',\n",
       "       'Fiber', 'Carbo', 'Sugars', 'Potass', 'Vitamins', 'Shelf', 'Weight',\n",
       "       'Cups', 'Rating', 'Cold', 'Nabisco', 'Quaker', 'Kelloggs',\n",
       "       'GeneralMills', 'Ralston', 'AHFP'],\n",
       "      dtype='object')"
      ]
     },
     "execution_count": 9,
     "metadata": {},
     "output_type": "execute_result"
    }
   ],
   "source": [
    "# To see the names of all columns\n",
    "cereal_df.columns"
   ]
  },
  {
   "cell_type": "code",
   "execution_count": 10,
   "metadata": {},
   "outputs": [
    {
     "data": {
      "text/html": [
       "<div>\n",
       "<style scoped>\n",
       "    .dataframe tbody tr th:only-of-type {\n",
       "        vertical-align: middle;\n",
       "    }\n",
       "\n",
       "    .dataframe tbody tr th {\n",
       "        vertical-align: top;\n",
       "    }\n",
       "\n",
       "    .dataframe thead th {\n",
       "        text-align: right;\n",
       "    }\n",
       "</style>\n",
       "<table border=\"1\" class=\"dataframe\">\n",
       "  <thead>\n",
       "    <tr style=\"text-align: right;\">\n",
       "      <th></th>\n",
       "      <th>Rating</th>\n",
       "      <th>Sugars</th>\n",
       "    </tr>\n",
       "  </thead>\n",
       "  <tbody>\n",
       "    <tr>\n",
       "      <th>Rating</th>\n",
       "      <td>1.000000</td>\n",
       "      <td>-0.755955</td>\n",
       "    </tr>\n",
       "    <tr>\n",
       "      <th>Sugars</th>\n",
       "      <td>-0.755955</td>\n",
       "      <td>1.000000</td>\n",
       "    </tr>\n",
       "  </tbody>\n",
       "</table>\n",
       "</div>"
      ],
      "text/plain": [
       "          Rating    Sugars\n",
       "Rating  1.000000 -0.755955\n",
       "Sugars -0.755955  1.000000"
      ]
     },
     "execution_count": 10,
     "metadata": {},
     "output_type": "execute_result"
    }
   ],
   "source": [
    "# Calculating Correlation between Nutritional Rating and Sugars \n",
    "corr = cereal_df[ ['Rating', 'Sugars']].corr()\n",
    "corr"
   ]
  },
  {
   "cell_type": "code",
   "execution_count": 11,
   "metadata": {},
   "outputs": [
    {
     "data": {
      "image/png": "[encoded data removed]",
      "text/plain": [
       "<Figure size 432x288 with 1 Axes>"
      ]
     },
     "metadata": {
      "image/png": {
       "height": 248,
       "width": 369
      },
      "needs_background": "light"
     },
     "output_type": "display_data"
    }
   ],
   "source": [
    "# scatterplot of Nutritional Rating vs Sugars to check correlation (negative strong = -0.76)\n",
    "plt.scatter(cereal_df['Rating'], cereal_df['Sugars'])\n",
    "plt.show()"
   ]
  },
  {
   "cell_type": "code",
   "execution_count": 12,
   "metadata": {},
   "outputs": [
    {
     "data": {
      "text/html": [
       "<div>\n",
       "<style scoped>\n",
       "    .dataframe tbody tr th:only-of-type {\n",
       "        vertical-align: middle;\n",
       "    }\n",
       "\n",
       "    .dataframe tbody tr th {\n",
       "        vertical-align: top;\n",
       "    }\n",
       "\n",
       "    .dataframe thead th {\n",
       "        text-align: right;\n",
       "    }\n",
       "</style>\n",
       "<table border=\"1\" class=\"dataframe\">\n",
       "  <thead>\n",
       "    <tr style=\"text-align: right;\">\n",
       "      <th></th>\n",
       "      <th>Rating</th>\n",
       "      <th>Fiber</th>\n",
       "    </tr>\n",
       "  </thead>\n",
       "  <tbody>\n",
       "    <tr>\n",
       "      <th>Rating</th>\n",
       "      <td>1.000000</td>\n",
       "      <td>0.603411</td>\n",
       "    </tr>\n",
       "    <tr>\n",
       "      <th>Fiber</th>\n",
       "      <td>0.603411</td>\n",
       "      <td>1.000000</td>\n",
       "    </tr>\n",
       "  </tbody>\n",
       "</table>\n",
       "</div>"
      ],
      "text/plain": [
       "          Rating     Fiber\n",
       "Rating  1.000000  0.603411\n",
       "Fiber   0.603411  1.000000"
      ]
     },
     "execution_count": 12,
     "metadata": {},
     "output_type": "execute_result"
    }
   ],
   "source": [
    "# Calculating Correlation between Nutritional Rating and Fiber\n",
    "corr = cereal_df[ ['Rating', 'Fiber']].corr()\n",
    "corr"
   ]
  },
  {
   "cell_type": "code",
   "execution_count": 13,
   "metadata": {},
   "outputs": [
    {
     "data": {
      "image/png": "[encoded data removed]",
      "text/plain": [
       "<Figure size 432x288 with 1 Axes>"
      ]
     },
     "metadata": {
      "image/png": {
       "height": 248,
       "width": 369
      },
      "needs_background": "light"
     },
     "output_type": "display_data"
    }
   ],
   "source": [
    "# scatterplot of Nutritional Rating vs Fiber to check correlation (positive weak = 0.6)\n",
    "plt.scatter(cereal_df['Rating'], cereal_df['Fiber'])\n",
    "plt.show()"
   ]
  },
  {
   "cell_type": "code",
   "execution_count": 14,
   "metadata": {},
   "outputs": [
    {
     "data": {
      "text/plain": [
       "['Sugars', 'Fiber']"
      ]
     },
     "execution_count": 14,
     "metadata": {},
     "output_type": "execute_result"
    }
   ],
   "source": [
    "# Creating a list with the names of the features we will use\n",
    "feature_names = ['Sugars', 'Fiber']\n",
    "feature_names "
   ]
  },
  {
   "cell_type": "code",
   "execution_count": 15,
   "metadata": {},
   "outputs": [],
   "source": [
    "# Creating features and targets\n",
    "features = cereal_df[feature_names]\n",
    "targets = cereal_df['Rating']\n",
    "\n",
    "# Creating DataFrame from target column and feature columns\n",
    "feature_and_target_cols = ['Rating'] + feature_names\n",
    "feature_targ_df = cereal_df[feature_and_target_cols]"
   ]
  },
  {
   "cell_type": "code",
   "execution_count": 16,
   "metadata": {},
   "outputs": [
    {
     "data": {
      "text/plain": [
       "(74,)"
      ]
     },
     "execution_count": 16,
     "metadata": {},
     "output_type": "execute_result"
    }
   ],
   "source": [
    "# checking dimensions of targets\n",
    "targets.shape"
   ]
  },
  {
   "cell_type": "code",
   "execution_count": 17,
   "metadata": {},
   "outputs": [
    {
     "data": {
      "text/plain": [
       "(74, 2)"
      ]
     },
     "execution_count": 17,
     "metadata": {},
     "output_type": "execute_result"
    }
   ],
   "source": [
    "# checking dimensions of features\n",
    "features.shape"
   ]
  },
  {
   "cell_type": "code",
   "execution_count": 18,
   "metadata": {},
   "outputs": [
    {
     "data": {
      "text/html": [
       "<div>\n",
       "<style scoped>\n",
       "    .dataframe tbody tr th:only-of-type {\n",
       "        vertical-align: middle;\n",
       "    }\n",
       "\n",
       "    .dataframe tbody tr th {\n",
       "        vertical-align: top;\n",
       "    }\n",
       "\n",
       "    .dataframe thead th {\n",
       "        text-align: right;\n",
       "    }\n",
       "</style>\n",
       "<table border=\"1\" class=\"dataframe\">\n",
       "  <thead>\n",
       "    <tr style=\"text-align: right;\">\n",
       "      <th></th>\n",
       "      <th>Rating</th>\n",
       "      <th>Sugars</th>\n",
       "      <th>Fiber</th>\n",
       "    </tr>\n",
       "  </thead>\n",
       "  <tbody>\n",
       "    <tr>\n",
       "      <th>Rating</th>\n",
       "      <td>1.000000</td>\n",
       "      <td>-0.755955</td>\n",
       "      <td>0.603411</td>\n",
       "    </tr>\n",
       "    <tr>\n",
       "      <th>Sugars</th>\n",
       "      <td>-0.755955</td>\n",
       "      <td>1.000000</td>\n",
       "      <td>-0.150949</td>\n",
       "    </tr>\n",
       "    <tr>\n",
       "      <th>Fiber</th>\n",
       "      <td>0.603411</td>\n",
       "      <td>-0.150949</td>\n",
       "      <td>1.000000</td>\n",
       "    </tr>\n",
       "  </tbody>\n",
       "</table>\n",
       "</div>"
      ],
      "text/plain": [
       "          Rating    Sugars     Fiber\n",
       "Rating  1.000000 -0.755955  0.603411\n",
       "Sugars -0.755955  1.000000 -0.150949\n",
       "Fiber   0.603411 -0.150949  1.000000"
      ]
     },
     "execution_count": 18,
     "metadata": {},
     "output_type": "execute_result"
    }
   ],
   "source": [
    "# Calculating correlation matrix\n",
    "corr_mat = feature_targ_df.corr()\n",
    "corr_mat"
   ]
  },
  {
   "cell_type": "code",
   "execution_count": 19,
   "metadata": {},
   "outputs": [
    {
     "data": {
      "image/png": "[encoded data removed]",
      "text/plain": [
       "<Figure size 432x288 with 2 Axes>"
      ]
     },
     "metadata": {
      "image/png": {
       "height": 280,
       "width": 412
      },
      "needs_background": "light"
     },
     "output_type": "display_data"
    },
    {
     "data": {
      "text/plain": [
       "<Figure size 432x288 with 0 Axes>"
      ]
     },
     "metadata": {},
     "output_type": "display_data"
    }
   ],
   "source": [
    "# Plotting heatmap of correlation matrix\n",
    "sns.heatmap(corr_mat, annot=True)\n",
    "plt.yticks(rotation=0); plt.xticks(rotation=90) # Fix ticklabel directions\n",
    "plt.tight_layout() # fits plot area to the plot, \"tightly\"\n",
    "plt.show() # show the plot\n",
    "plt.clf() # clear the plot area"
   ]
  },
  {
   "cell_type": "code",
   "execution_count": 20,
   "metadata": {},
   "outputs": [
    {
     "data": {
      "image/png": "[encoded data removed]",
      "text/plain": [
       "<Figure size 432x288 with 1 Axes>"
      ]
     },
     "metadata": {
      "image/png": {
       "height": 248,
       "width": 369
      },
      "needs_background": "light"
     },
     "output_type": "display_data"
    }
   ],
   "source": [
    "# Create a scatter plot of the most highly correlated variable (Sugars) with the target (Rating)\n",
    "plt.scatter(cereal_df['Rating'], cereal_df['Sugars'])\n",
    "plt.show()"
   ]
  },
  {
   "cell_type": "code",
   "execution_count": 21,
   "metadata": {},
   "outputs": [
    {
     "name": "stdout",
     "output_type": "stream",
     "text": [
      "(74, 3) (62, 3) (12, 3)\n"
     ]
    },
    {
     "name": "stderr",
     "output_type": "stream",
     "text": [
      "C:\\Users\\vmc62\\Anaconda3\\envs\\pysyft\\lib\\site-packages\\numpy\\core\\fromnumeric.py:2389: FutureWarning: Method .ptp is deprecated and will be removed in a future version. Use numpy.ptp instead.\n",
      "  return ptp(axis=axis, out=out, **kwargs)\n"
     ]
    }
   ],
   "source": [
    "# we can fit our first machine learning Linear model\n",
    "# need to add a constant to feature (column of ones = y-intercept)\n",
    "\n",
    "# Adding a constant to our features\n",
    "linear_features = sm.add_constant(features)\n",
    "\n",
    "# Creating a size for the training set that is 85% of the total number of samples\n",
    "train_size = int(0.85 * features.shape[0])\n",
    "\n",
    "# Training set\n",
    "train_features = linear_features[:train_size]\n",
    "train_targets = targets[:train_size]\n",
    "\n",
    "# Test set\n",
    "test_features = linear_features[train_size:]\n",
    "test_targets = targets[train_size: ]\n",
    "\n",
    "print(linear_features.shape, train_features.shape, test_features.shape)"
   ]
  },
  {
   "cell_type": "code",
   "execution_count": 22,
   "metadata": {},
   "outputs": [
    {
     "data": {
      "text/html": [
       "<table class=\"simpletable\">\n",
       "<caption>OLS Regression Results</caption>\n",
       "<tr>\n",
       "  <th>Dep. Variable:</th>         <td>Rating</td>      <th>  R-squared:         </th> <td>   0.829</td>\n",
       "</tr>\n",
       "<tr>\n",
       "  <th>Model:</th>                   <td>OLS</td>       <th>  Adj. R-squared:    </th> <td>   0.824</td>\n",
       "</tr>\n",
       "<tr>\n",
       "  <th>Method:</th>             <td>Least Squares</td>  <th>  F-statistic:       </th> <td>   143.5</td>\n",
       "</tr>\n",
       "<tr>\n",
       "  <th>Date:</th>             <td>Tue, 10 Sep 2019</td> <th>  Prob (F-statistic):</th> <td>2.19e-23</td>\n",
       "</tr>\n",
       "<tr>\n",
       "  <th>Time:</th>                 <td>22:36:08</td>     <th>  Log-Likelihood:    </th> <td> -197.11</td>\n",
       "</tr>\n",
       "<tr>\n",
       "  <th>No. Observations:</th>      <td>    62</td>      <th>  AIC:               </th> <td>   400.2</td>\n",
       "</tr>\n",
       "<tr>\n",
       "  <th>Df Residuals:</th>          <td>    59</td>      <th>  BIC:               </th> <td>   406.6</td>\n",
       "</tr>\n",
       "<tr>\n",
       "  <th>Df Model:</th>              <td>     2</td>      <th>                     </th>     <td> </td>   \n",
       "</tr>\n",
       "<tr>\n",
       "  <th>Covariance Type:</th>      <td>nonrobust</td>    <th>                     </th>     <td> </td>   \n",
       "</tr>\n",
       "</table>\n",
       "<table class=\"simpletable\">\n",
       "<tr>\n",
       "     <td></td>       <th>coef</th>     <th>std err</th>      <th>t</th>      <th>P>|t|</th>  <th>[0.025</th>    <th>0.975]</th>  \n",
       "</tr>\n",
       "<tr>\n",
       "  <th>const</th>  <td>   51.7462</td> <td>    1.770</td> <td>   29.233</td> <td> 0.000</td> <td>   48.204</td> <td>   55.288</td>\n",
       "</tr>\n",
       "<tr>\n",
       "  <th>Sugars</th> <td>   -2.2204</td> <td>    0.183</td> <td>  -12.138</td> <td> 0.000</td> <td>   -2.586</td> <td>   -1.854</td>\n",
       "</tr>\n",
       "<tr>\n",
       "  <th>Fiber</th>  <td>    2.8796</td> <td>    0.301</td> <td>    9.560</td> <td> 0.000</td> <td>    2.277</td> <td>    3.482</td>\n",
       "</tr>\n",
       "</table>\n",
       "<table class=\"simpletable\">\n",
       "<tr>\n",
       "  <th>Omnibus:</th>       <td> 6.377</td> <th>  Durbin-Watson:     </th> <td>   1.854</td>\n",
       "</tr>\n",
       "<tr>\n",
       "  <th>Prob(Omnibus):</th> <td> 0.041</td> <th>  Jarque-Bera (JB):  </th> <td>   5.786</td>\n",
       "</tr>\n",
       "<tr>\n",
       "  <th>Skew:</th>          <td> 0.738</td> <th>  Prob(JB):          </th> <td>  0.0554</td>\n",
       "</tr>\n",
       "<tr>\n",
       "  <th>Kurtosis:</th>      <td> 3.248</td> <th>  Cond. No.          </th> <td>    20.5</td>\n",
       "</tr>\n",
       "</table><br/><br/>Warnings:<br/>[1] Standard Errors assume that the covariance matrix of the errors is correctly specified."
      ],
      "text/plain": [
       "<class 'statsmodels.iolib.summary.Summary'>\n",
       "\"\"\"\n",
       "                            OLS Regression Results                            \n",
       "==============================================================================\n",
       "Dep. Variable:                 Rating   R-squared:                       0.829\n",
       "Model:                            OLS   Adj. R-squared:                  0.824\n",
       "Method:                 Least Squares   F-statistic:                     143.5\n",
       "Date:                Tue, 10 Sep 2019   Prob (F-statistic):           2.19e-23\n",
       "Time:                        22:36:08   Log-Likelihood:                -197.11\n",
       "No. Observations:                  62   AIC:                             400.2\n",
       "Df Residuals:                      59   BIC:                             406.6\n",
       "Df Model:                           2                                         \n",
       "Covariance Type:            nonrobust                                         \n",
       "==============================================================================\n",
       "                 coef    std err          t      P>|t|      [0.025      0.975]\n",
       "------------------------------------------------------------------------------\n",
       "const         51.7462      1.770     29.233      0.000      48.204      55.288\n",
       "Sugars        -2.2204      0.183    -12.138      0.000      -2.586      -1.854\n",
       "Fiber          2.8796      0.301      9.560      0.000       2.277       3.482\n",
       "==============================================================================\n",
       "Omnibus:                        6.377   Durbin-Watson:                   1.854\n",
       "Prob(Omnibus):                  0.041   Jarque-Bera (JB):                5.786\n",
       "Skew:                           0.738   Prob(JB):                       0.0554\n",
       "Kurtosis:                       3.248   Cond. No.                         20.5\n",
       "==============================================================================\n",
       "\n",
       "Warnings:\n",
       "[1] Standard Errors assume that the covariance matrix of the errors is correctly specified.\n",
       "\"\"\""
      ]
     },
     "execution_count": 22,
     "metadata": {},
     "output_type": "execute_result"
    }
   ],
   "source": [
    "# Fitting a Linear Model\n",
    "model = sm.OLS(train_targets, train_features)\n",
    "results = model.fit() # fit the model\n",
    "\n",
    "# Getting all the Statistics including R^2 value and Standard Errors\n",
    "results.summary()\n",
    "\n",
    "# R^2 is 0.83 ~ very good model (close to 1)"
   ]
  },
  {
   "cell_type": "code",
   "execution_count": 23,
   "metadata": {},
   "outputs": [
    {
     "data": {
      "text/plain": [
       "const     8.456383e-37\n",
       "Sugars    1.111691e-17\n",
       "Fiber     1.348279e-13\n",
       "dtype: float64"
      ]
     },
     "execution_count": 23,
     "metadata": {},
     "output_type": "execute_result"
    }
   ],
   "source": [
    "# Examine the p-values\n",
    "# Features with p<= 0.05 are typically considered significantly different from 0\n",
    "\n",
    "results.pvalues"
   ]
  },
  {
   "cell_type": "code",
   "execution_count": 24,
   "metadata": {},
   "outputs": [],
   "source": [
    "# Make predictions from our model for train and test sets\n",
    "train_predictions = results.predict(train_features)\n",
    "test_predictions = results.predict(test_features)"
   ]
  },
  {
   "cell_type": "code",
   "execution_count": 25,
   "metadata": {},
   "outputs": [
    {
     "data": {
      "image/png": "[encoded data removed]",
      "text/plain": [
       "<Figure size 432x288 with 1 Axes>"
      ]
     },
     "metadata": {
      "image/png": {
       "height": 261,
       "width": 382
      },
      "needs_background": "light"
     },
     "output_type": "display_data"
    }
   ],
   "source": [
    "# Seeing how good the predictions are, is our model any good?\n",
    "# Plotting the prediction versus the actual values of the targets\n",
    "\n",
    "# Scatter the predictions vs the targets with 80% transparency\n",
    "plt.scatter(train_predictions, train_targets, alpha=0.2, color='b', label='train')\n",
    "plt.scatter(test_predictions, test_targets, alpha=0.2, color='r', label='test')\n",
    "\n",
    "# Plot the perfect prediction line\n",
    "xmin, xmax = plt.xlim()\n",
    "plt.plot(np.arange(xmin, xmax, 0.01), np.arange(xmin, xmax, 0.01), c='k')\n",
    "\n",
    "# Set the axis labels and show the plot\n",
    "plt.xlabel('predictions')\n",
    "plt.ylabel('actual')\n",
    "plt.legend()  # show the legend\n",
    "plt.show()"
   ]
  },
  {
   "cell_type": "markdown",
   "metadata": {},
   "source": [
    "## NEURAL NETWORKS"
   ]
  },
  {
   "cell_type": "code",
   "execution_count": 224,
   "metadata": {},
   "outputs": [],
   "source": [
    "# Converting CSV to Dataframe\n",
    "cereal_df = pd.read_csv(\"Cereals.xls\")\n",
    "\n",
    "# removing missing data\n",
    "\n",
    "cereal_df = cereal_df.dropna()\n"
   ]
  },
  {
   "cell_type": "code",
   "execution_count": 225,
   "metadata": {},
   "outputs": [
    {
     "data": {
      "text/plain": [
       "['Sugars', 'Fiber']"
      ]
     },
     "execution_count": 225,
     "metadata": {},
     "output_type": "execute_result"
    }
   ],
   "source": [
    "# creating list of feature names\n",
    "\n",
    "feature_names = ['Sugars', 'Fiber']\n",
    "feature_names "
   ]
  },
  {
   "cell_type": "code",
   "execution_count": 226,
   "metadata": {},
   "outputs": [],
   "source": [
    "# Creating features and targets\n",
    "features = cereal_df[feature_names]\n",
    "targets = cereal_df['Rating']\n",
    "\n",
    "# Creating DataFrame from target column and feature columns\n",
    "feature_and_target_cols = ['Rating'] + feature_names\n",
    "feature_targ_df = cereal_df[feature_and_target_cols]\n",
    "\n",
    "# Creating a size for the training set that is 85% of the total number of samples\n",
    "train_size = int(0.85 * features.shape[0])\n",
    "\n",
    "# Training set\n",
    "train_features = features[:train_size]\n",
    "train_targets = targets[:train_size]\n",
    "\n",
    "# Test set\n",
    "test_features = features[train_size:]\n",
    "test_targets = targets[train_size: ]"
   ]
  },
  {
   "cell_type": "code",
   "execution_count": 227,
   "metadata": {},
   "outputs": [
    {
     "name": "stdout",
     "output_type": "stream",
     "text": [
      "(74, 2) (62, 2) (12, 2)\n"
     ]
    }
   ],
   "source": [
    "print(features.shape, train_features.shape, test_features.shape)"
   ]
  },
  {
   "cell_type": "code",
   "execution_count": 228,
   "metadata": {},
   "outputs": [],
   "source": [
    "# Some models like neural networks work better with scaled data - so we need to standardize our data\n",
    "\n",
    "# Scaling options: standardization\n",
    "# subtracts the mean from all data points, the divides by the standard deviation - sets mean to 0 and standard deviation to 1\n",
    "\n",
    "from sklearn.preprocessing import scale\n",
    "\n",
    "# fits the scaler to the training data and transforms it at the same time\n",
    "scaled_train_features = scale(train_features)\n",
    "\n",
    "# transforms test data\n",
    "scaled_test_features = scale(test_features)\n"
   ]
  },
  {
   "cell_type": "markdown",
   "metadata": {},
   "source": [
    "## Build and fit a simple neural net"
   ]
  },
  {
   "cell_type": "code",
   "execution_count": 235,
   "metadata": {},
   "outputs": [],
   "source": [
    "# Libraries\n",
    "from keras.models import Sequential\n",
    "from keras.layers import Dense"
   ]
  },
  {
   "cell_type": "code",
   "execution_count": 230,
   "metadata": {},
   "outputs": [],
   "source": [
    "# Model:\n",
    "# First Layer: number of rows as input --> 100 nodes as output + relu activation\n",
    "# Second Layer: 100 nodes as input --> 20 nodes as output + relu activation\n",
    "# Third layer: 20 nodes as input --> 1 as output + Linear activation\n",
    "\n",
    "model_1 = Sequential()\n",
    "model_1.add(Dense(300, input_dim=scaled_train_features.shape[1], activation='relu'))\n",
    "model_1.add(Dense(150, activation='relu'))\n",
    "model_1.add(Dense(1, activation='linear'))"
   ]
  },
  {
   "cell_type": "code",
   "execution_count": 231,
   "metadata": {},
   "outputs": [
    {
     "name": "stdout",
     "output_type": "stream",
     "text": [
      "Epoch 1/80\n",
      "62/62 [==============================] - 1s 12ms/step - loss: 1961.6467\n",
      "Epoch 2/80\n",
      "62/62 [==============================] - 0s 80us/step - loss: 1941.9267\n",
      "Epoch 3/80\n",
      "62/62 [==============================] - 0s 113us/step - loss: 1921.0970\n",
      "Epoch 4/80\n",
      "62/62 [==============================] - 0s 97us/step - loss: 1901.2275\n",
      "Epoch 5/80\n",
      "62/62 [==============================] - 0s 80us/step - loss: 1881.6068\n",
      "Epoch 6/80\n",
      "62/62 [==============================] - 0s 97us/step - loss: 1857.7345\n",
      "Epoch 7/80\n",
      "62/62 [==============================] - 0s 97us/step - loss: 1835.7846\n",
      "Epoch 8/80\n",
      "62/62 [==============================] - 0s 97us/step - loss: 1808.6881\n",
      "Epoch 9/80\n",
      "62/62 [==============================] - 0s 113us/step - loss: 1779.4275\n",
      "Epoch 10/80\n",
      "62/62 [==============================] - 0s 97us/step - loss: 1748.1792\n",
      "Epoch 11/80\n",
      "62/62 [==============================] - 0s 129us/step - loss: 1711.5770\n",
      "Epoch 12/80\n",
      "62/62 [==============================] - 0s 97us/step - loss: 1674.1380\n",
      "Epoch 13/80\n",
      "62/62 [==============================] - 0s 113us/step - loss: 1628.8815\n",
      "Epoch 14/80\n",
      "62/62 [==============================] - 0s 97us/step - loss: 1587.9081\n",
      "Epoch 15/80\n",
      "62/62 [==============================] - 0s 97us/step - loss: 1537.0191\n",
      "Epoch 16/80\n",
      "62/62 [==============================] - 0s 97us/step - loss: 1479.3791\n",
      "Epoch 17/80\n",
      "62/62 [==============================] - 0s 97us/step - loss: 1419.6114\n",
      "Epoch 18/80\n",
      "62/62 [==============================] - 0s 113us/step - loss: 1356.4648\n",
      "Epoch 19/80\n",
      "62/62 [==============================] - 0s 97us/step - loss: 1291.6587\n",
      "Epoch 20/80\n",
      "62/62 [==============================] - 0s 113us/step - loss: 1223.5852\n",
      "Epoch 21/80\n",
      "62/62 [==============================] - 0s 97us/step - loss: 1146.4984\n",
      "Epoch 22/80\n",
      "62/62 [==============================] - 0s 113us/step - loss: 1071.8217\n",
      "Epoch 23/80\n",
      "62/62 [==============================] - 0s 97us/step - loss: 991.4210\n",
      "Epoch 24/80\n",
      "62/62 [==============================] - 0s 81us/step - loss: 911.4665\n",
      "Epoch 25/80\n",
      "62/62 [==============================] - 0s 97us/step - loss: 825.9871\n",
      "Epoch 26/80\n",
      "62/62 [==============================] - 0s 97us/step - loss: 747.2929\n",
      "Epoch 27/80\n",
      "62/62 [==============================] - 0s 113us/step - loss: 661.8549\n",
      "Epoch 28/80\n",
      "62/62 [==============================] - 0s 97us/step - loss: 581.1470\n",
      "Epoch 29/80\n",
      "62/62 [==============================] - 0s 97us/step - loss: 502.8573\n",
      "Epoch 30/80\n",
      "62/62 [==============================] - 0s 97us/step - loss: 433.1678\n",
      "Epoch 31/80\n",
      "62/62 [==============================] - 0s 113us/step - loss: 364.9642\n",
      "Epoch 32/80\n",
      "62/62 [==============================] - 0s 97us/step - loss: 305.0668\n",
      "Epoch 33/80\n",
      "62/62 [==============================] - 0s 80us/step - loss: 255.0151\n",
      "Epoch 34/80\n",
      "62/62 [==============================] - 0s 97us/step - loss: 212.2907\n",
      "Epoch 35/80\n",
      "62/62 [==============================] - 0s 97us/step - loss: 180.4794\n",
      "Epoch 36/80\n",
      "62/62 [==============================] - 0s 97us/step - loss: 155.1245\n",
      "Epoch 37/80\n",
      "62/62 [==============================] - 0s 65us/step - loss: 141.1763\n",
      "Epoch 38/80\n",
      "62/62 [==============================] - 0s 97us/step - loss: 128.3365\n",
      "Epoch 39/80\n",
      "62/62 [==============================] - 0s 81us/step - loss: 122.8238\n",
      "Epoch 40/80\n",
      "62/62 [==============================] - 0s 129us/step - loss: 120.1755\n",
      "Epoch 41/80\n",
      "62/62 [==============================] - 0s 113us/step - loss: 119.4438\n",
      "Epoch 42/80\n",
      "62/62 [==============================] - 0s 97us/step - loss: 119.1374\n",
      "Epoch 43/80\n",
      "62/62 [==============================] - 0s 113us/step - loss: 116.3460\n",
      "Epoch 44/80\n",
      "62/62 [==============================] - 0s 97us/step - loss: 113.6925\n",
      "Epoch 45/80\n",
      "62/62 [==============================] - 0s 97us/step - loss: 110.1288\n",
      "Epoch 46/80\n",
      "62/62 [==============================] - 0s 80us/step - loss: 104.9951\n",
      "Epoch 47/80\n",
      "62/62 [==============================] - 0s 97us/step - loss: 100.2815\n",
      "Epoch 48/80\n",
      "62/62 [==============================] - 0s 113us/step - loss: 95.4160\n",
      "Epoch 49/80\n",
      "62/62 [==============================] - 0s 97us/step - loss: 90.1715\n",
      "Epoch 50/80\n",
      "62/62 [==============================] - 0s 113us/step - loss: 86.2118\n",
      "Epoch 51/80\n",
      "62/62 [==============================] - 0s 97us/step - loss: 82.9001\n",
      "Epoch 52/80\n",
      "62/62 [==============================] - 0s 113us/step - loss: 81.0467\n",
      "Epoch 53/80\n",
      "62/62 [==============================] - 0s 81us/step - loss: 77.6544\n",
      "Epoch 54/80\n",
      "62/62 [==============================] - 0s 96us/step - loss: 75.4308\n",
      "Epoch 55/80\n",
      "62/62 [==============================] - 0s 97us/step - loss: 73.6236\n",
      "Epoch 56/80\n",
      "62/62 [==============================] - 0s 81us/step - loss: 71.4462\n",
      "Epoch 57/80\n",
      "62/62 [==============================] - 0s 113us/step - loss: 69.8719\n",
      "Epoch 58/80\n",
      "62/62 [==============================] - 0s 97us/step - loss: 67.8920\n",
      "Epoch 59/80\n",
      "62/62 [==============================] - 0s 113us/step - loss: 66.1954\n",
      "Epoch 60/80\n",
      "62/62 [==============================] - 0s 97us/step - loss: 64.3511\n",
      "Epoch 61/80\n",
      "62/62 [==============================] - 0s 81us/step - loss: 62.7179\n",
      "Epoch 62/80\n",
      "62/62 [==============================] - 0s 97us/step - loss: 60.9301\n",
      "Epoch 63/80\n",
      "62/62 [==============================] - 0s 81us/step - loss: 59.4668\n",
      "Epoch 64/80\n",
      "62/62 [==============================] - 0s 113us/step - loss: 57.9085\n",
      "Epoch 65/80\n",
      "62/62 [==============================] - 0s 81us/step - loss: 56.4359\n",
      "Epoch 66/80\n",
      "62/62 [==============================] - 0s 113us/step - loss: 55.1389\n",
      "Epoch 67/80\n",
      "62/62 [==============================] - 0s 81us/step - loss: 54.0220\n",
      "Epoch 68/80\n",
      "62/62 [==============================] - 0s 97us/step - loss: 52.7734\n",
      "Epoch 69/80\n",
      "62/62 [==============================] - 0s 97us/step - loss: 51.5667\n",
      "Epoch 70/80\n",
      "62/62 [==============================] - 0s 81us/step - loss: 50.5321\n",
      "Epoch 71/80\n",
      "62/62 [==============================] - 0s 113us/step - loss: 49.3821\n",
      "Epoch 72/80\n",
      "62/62 [==============================] - 0s 97us/step - loss: 48.4472\n",
      "Epoch 73/80\n",
      "62/62 [==============================] - 0s 97us/step - loss: 47.5044\n",
      "Epoch 74/80\n",
      "62/62 [==============================] - 0s 97us/step - loss: 46.5020\n",
      "Epoch 75/80\n",
      "62/62 [==============================] - 0s 64us/step - loss: 45.7688\n",
      "Epoch 76/80\n",
      "62/62 [==============================] - 0s 97us/step - loss: 44.8283\n",
      "Epoch 77/80\n",
      "62/62 [==============================] - 0s 81us/step - loss: 43.9573\n",
      "Epoch 78/80\n",
      "62/62 [==============================] - 0s 97us/step - loss: 43.0934\n",
      "Epoch 79/80\n",
      "62/62 [==============================] - 0s 81us/step - loss: 42.4733\n",
      "Epoch 80/80\n",
      "62/62 [==============================] - 0s 81us/step - loss: 41.8141\n"
     ]
    }
   ],
   "source": [
    "# Fit the model\n",
    "# Adam Optimization\n",
    "# Regression Loss Function = Mean Square Error (MSE) - most common\n",
    "# 25 epochs\n",
    "\n",
    "model_1.compile(optimizer='adam', loss='mse')\n",
    "\n",
    "history = model_1.fit(scaled_train_features, train_targets, epochs=80)"
   ]
  },
  {
   "cell_type": "code",
   "execution_count": 190,
   "metadata": {},
   "outputs": [
    {
     "data": {
      "image/png": "[encoded data removed]",
      "text/plain": [
       "<Figure size 432x288 with 1 Axes>"
      ]
     },
     "metadata": {
      "image/png": {
       "height": 263,
       "width": 381
      },
      "needs_background": "light"
     },
     "output_type": "display_data"
    }
   ],
   "source": [
    "# Now we need to check that our training loss has flattened out and the net is sufficiently trained.\n",
    "\n",
    "# Plot the losses from the fit\n",
    "plt.plot(history.history['loss'])\n",
    "\n",
    "# Use the last loss as the title\n",
    "plt.title('loss:' + str(round(history.history['loss'][-1], 6)))\n",
    "plt.show()"
   ]
  },
  {
   "cell_type": "code",
   "execution_count": 236,
   "metadata": {},
   "outputs": [
    {
     "name": "stdout",
     "output_type": "stream",
     "text": [
      "R^2 value for Training Set:  0.791973267431267\n",
      "R^2 value for Test Set:  0.42255898788097546\n"
     ]
    },
    {
     "data": {
      "image/png": "[encoded data removed]",
      "text/plain": [
       "<Figure size 432x288 with 1 Axes>"
      ]
     },
     "metadata": {
      "image/png": {
       "height": 248,
       "width": 369
      },
      "needs_background": "light"
     },
     "output_type": "display_data"
    }
   ],
   "source": [
    "# Measure performance\n",
    "# checking performance to see how well the model is predicting new values\n",
    "\n",
    "from sklearn.metrics import r2_score\n",
    "\n",
    "# Calculate R^2 score\n",
    "train_preds = model_1.predict(scaled_train_features)\n",
    "test_preds = model_1.predict(scaled_test_features)\n",
    "print(\"R^2 value for Training Set: \", r2_score(train_targets, train_preds))\n",
    "print(\"R^2 value for Test Set: \", r2_score(test_targets, test_preds))\n",
    "\n",
    "# Plot predictions vs actual\n",
    "plt.scatter(train_preds, train_targets, label='train')\n",
    "plt.scatter(test_preds, test_targets, label='test')\n",
    "plt.legend()\n",
    "plt.show()\n"
   ]
  },
  {
   "cell_type": "code",
   "execution_count": null,
   "metadata": {},
   "outputs": [],
   "source": []
  }
 ],
 "metadata": {
  "kernelspec": {
   "display_name": "Python 3",
   "language": "python",
   "name": "python3"
  },
  "language_info": {
   "codemirror_mode": {
    "name": "ipython",
    "version": 3
   },
   "file_extension": ".py",
   "mimetype": "text/x-python",
   "name": "python",
   "nbconvert_exporter": "python",
   "pygments_lexer": "ipython3",
   "version": "3.7.3"
  }
 },
 "nbformat": 4,
 "nbformat_minor": 2
}
